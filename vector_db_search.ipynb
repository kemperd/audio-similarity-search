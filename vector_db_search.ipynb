{
 "cells": [
  {
   "cell_type": "code",
   "execution_count": 1,
   "metadata": {},
   "outputs": [
    {
     "name": "stderr",
     "output_type": "stream",
     "text": [
      "/home/dkemper/anaconda3/envs/audio-similarity-search/lib/python3.13/site-packages/tqdm/auto.py:21: TqdmWarning: IProgress not found. Please update jupyter and ipywidgets. See https://ipywidgets.readthedocs.io/en/stable/user_install.html\n",
      "  from .autonotebook import tqdm as notebook_tqdm\n"
     ]
    }
   ],
   "source": [
    "from transformers import Wav2Vec2FeatureExtractor, Wav2Vec2Model\n",
    "import glob\n",
    "from pymilvus import MilvusClient\n",
    "import embeddings_util\n",
    "import json"
   ]
  },
  {
   "cell_type": "code",
   "execution_count": 2,
   "metadata": {},
   "outputs": [],
   "source": [
    "MILVUS_DATABASE = 'esc50.db'\n",
    "MODEL_NAME = 'facebook/wav2vec2-large'\n",
    "\n",
    "feature_extractor = Wav2Vec2FeatureExtractor.from_pretrained(MODEL_NAME)\n",
    "model = Wav2Vec2Model.from_pretrained(MODEL_NAME)"
   ]
  },
  {
   "cell_type": "code",
   "execution_count": 3,
   "metadata": {},
   "outputs": [],
   "source": [
    "milvus_client = MilvusClient(MILVUS_DATABASE)\n",
    "embeddings_util.init_milvus(milvus_client)"
   ]
  },
  {
   "cell_type": "code",
   "execution_count": 4,
   "metadata": {},
   "outputs": [],
   "source": [
    "train_files = glob.glob('esc50/train/**/*.wav', recursive=True)\n",
    "\n",
    "for file in train_files:\n",
    "    feature_vector = embeddings_util.retrieve_embeddings_for_audiofile(file, feature_extractor, model)\n",
    "    embeddings_util.insert_embeddings_into_db(feature_vector, file, milvus_client)"
   ]
  },
  {
   "cell_type": "code",
   "execution_count": 5,
   "metadata": {},
   "outputs": [
    {
     "name": "stdout",
     "output_type": "stream",
     "text": [
      "Top 1 accuracy: 0.22\n",
      "Top 3 accuracy: 0.36\n"
     ]
    }
   ],
   "source": [
    "val_files = glob.glob('esc50/val/**/*.wav', recursive=True)\n",
    "\n",
    "top_1_scores_list = []\n",
    "top_3_scores_list = []\n",
    "\n",
    "for file in val_files:\n",
    "    target_category = file.split('/')[2]\n",
    "    feature_vector = embeddings_util.retrieve_embeddings_for_audiofile(\n",
    "        file, feature_extractor, model)\n",
    "    result_json = embeddings_util.retrieve_by_sample(feature_vector, milvus_client)\n",
    "    inferred_category = result_json[0][0]['entity']['filename'].split('/')[2]\n",
    "\n",
    "    top_1_scores_list.append(1) if target_category == inferred_category else top_1_scores_list.append(0)\n",
    "\n",
    "    top_3_classes = []\n",
    "    for r in result_json[0][0:3]:\n",
    "        top_3_classes.append(r['entity']['filename'].split('/')[2])\n",
    "    top_3_scores_list.append(1) if target_category in top_3_classes else top_3_scores_list.append(0)\n",
    "\n",
    "\n",
    "print('Top 1 accuracy: {}'.format(top_1_scores_list.count(1) / len(top_1_scores_list)))\n",
    "print('Top 3 accuracy: {}'.format(top_3_scores_list.count(1) / len(top_3_scores_list)))\n"
   ]
  }
 ],
 "metadata": {
  "kernelspec": {
   "display_name": "audio-similarity-search",
   "language": "python",
   "name": "python3"
  },
  "language_info": {
   "codemirror_mode": {
    "name": "ipython",
    "version": 3
   },
   "file_extension": ".py",
   "mimetype": "text/x-python",
   "name": "python",
   "nbconvert_exporter": "python",
   "pygments_lexer": "ipython3",
   "version": "3.13.2"
  }
 },
 "nbformat": 4,
 "nbformat_minor": 2
}
